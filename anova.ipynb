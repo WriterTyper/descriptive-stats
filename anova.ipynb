{
  "metadata": {
    "kernelspec": {
      "name": "ir",
      "display_name": "R",
      "language": "R"
    },
    "language_info": {
      "name": "R",
      "codemirror_mode": "r",
      "pygments_lexer": "r",
      "mimetype": "text/x-r-source",
      "file_extension": ".r",
      "version": "4.0.5"
    },
    "colab": {
      "name": "anova.ipynb",
      "provenance": [],
      "collapsed_sections": [],
      "include_colab_link": true
    }
  },
  "nbformat_minor": 0,
  "nbformat": 4,
  "cells": [
    {
      "cell_type": "markdown",
      "metadata": {
        "id": "view-in-github",
        "colab_type": "text"
      },
      "source": [
        "<a href=\"https://colab.research.google.com/github/WriterTyper/descriptive-stats/blob/main/anova.ipynb\" target=\"_parent\"><img src=\"https://colab.research.google.com/assets/colab-badge.svg\" alt=\"Open In Colab\"/></a>"
      ]
    },
    {
      "cell_type": "code",
      "source": [
        "library(tidyverse)\n",
        "library(broom)"
      ],
      "metadata": {
        "_uuid": "051d70d956493feee0c6d64651c6a088724dca2a",
        "_execution_state": "idle",
        "execution": {
          "iopub.status.busy": "2022-02-11T19:45:00.121433Z",
          "iopub.execute_input": "2022-02-11T19:45:00.123394Z",
          "iopub.status.idle": "2022-02-11T19:45:00.140963Z"
        },
        "trusted": true,
        "colab": {
          "base_uri": "https://localhost:8080/"
        },
        "id": "MlvXzkDxqD1c",
        "outputId": "a5858c79-f12f-4c0e-fa4d-3bafa73e2586"
      },
      "execution_count": 1,
      "outputs": [
        {
          "output_type": "stream",
          "name": "stderr",
          "text": [
            "Warning message in system(\"timedatectl\", intern = TRUE):\n",
            "“running command 'timedatectl' had status 1”\n",
            "── \u001b[1mAttaching packages\u001b[22m ─────────────────────────────────────── tidyverse 1.3.1 ──\n",
            "\n",
            "\u001b[32m✔\u001b[39m \u001b[34mggplot2\u001b[39m 3.3.5     \u001b[32m✔\u001b[39m \u001b[34mpurrr  \u001b[39m 0.3.4\n",
            "\u001b[32m✔\u001b[39m \u001b[34mtibble \u001b[39m 3.1.6     \u001b[32m✔\u001b[39m \u001b[34mdplyr  \u001b[39m 1.0.7\n",
            "\u001b[32m✔\u001b[39m \u001b[34mtidyr  \u001b[39m 1.1.4     \u001b[32m✔\u001b[39m \u001b[34mstringr\u001b[39m 1.4.0\n",
            "\u001b[32m✔\u001b[39m \u001b[34mreadr  \u001b[39m 2.1.1     \u001b[32m✔\u001b[39m \u001b[34mforcats\u001b[39m 0.5.1\n",
            "\n",
            "── \u001b[1mConflicts\u001b[22m ────────────────────────────────────────── tidyverse_conflicts() ──\n",
            "\u001b[31m✖\u001b[39m \u001b[34mdplyr\u001b[39m::\u001b[32mfilter()\u001b[39m masks \u001b[34mstats\u001b[39m::filter()\n",
            "\u001b[31m✖\u001b[39m \u001b[34mdplyr\u001b[39m::\u001b[32mlag()\u001b[39m    masks \u001b[34mstats\u001b[39m::lag()\n",
            "\n"
          ]
        }
      ]
    },
    {
      "cell_type": "code",
      "source": [
        "install.packages(\"palmerpenguins\")"
      ],
      "metadata": {
        "colab": {
          "base_uri": "https://localhost:8080/"
        },
        "id": "F8rS6yPEqI3o",
        "outputId": "c00e12ba-dc68-4573-abf3-0a07eed886f3"
      },
      "execution_count": 2,
      "outputs": [
        {
          "output_type": "stream",
          "name": "stderr",
          "text": [
            "Installing package into ‘/usr/local/lib/R/site-library’\n",
            "(as ‘lib’ is unspecified)\n",
            "\n"
          ]
        }
      ]
    },
    {
      "cell_type": "code",
      "source": [
        ""
      ],
      "metadata": {
        "id": "UTc58rw0rCqT"
      },
      "execution_count": 3,
      "outputs": []
    },
    {
      "cell_type": "code",
      "source": [
        "library(palmerpenguins)"
      ],
      "metadata": {
        "execution": {
          "iopub.status.busy": "2022-02-11T19:45:00.143837Z",
          "iopub.execute_input": "2022-02-11T19:45:00.145444Z",
          "iopub.status.idle": "2022-02-11T19:45:00.159109Z"
        },
        "trusted": true,
        "id": "eztr9I51qD1j"
      },
      "execution_count": 4,
      "outputs": []
    },
    {
      "cell_type": "code",
      "source": [
        "dat <- penguins "
      ],
      "metadata": {
        "execution": {
          "iopub.status.busy": "2022-02-11T19:56:48.392674Z",
          "iopub.execute_input": "2022-02-11T19:56:48.394554Z",
          "iopub.status.idle": "2022-02-11T19:56:48.407337Z"
        },
        "trusted": true,
        "id": "0eVFAVP9qD1k"
      },
      "execution_count": 5,
      "outputs": []
    },
    {
      "cell_type": "code",
      "source": [
        "aov(flipper_length_mm ~ species,\n",
        "  data = dat\n",
        ") %>% tidy() "
      ],
      "metadata": {
        "execution": {
          "iopub.status.busy": "2022-02-11T19:45:00.182896Z",
          "iopub.execute_input": "2022-02-11T19:45:00.184387Z",
          "iopub.status.idle": "2022-02-11T19:45:00.220833Z"
        },
        "trusted": true,
        "colab": {
          "base_uri": "https://localhost:8080/",
          "height": 161
        },
        "id": "7nTITYs_qD1k",
        "outputId": "318f4706-7f94-4989-c870-2e05ad13a18e"
      },
      "execution_count": 6,
      "outputs": [
        {
          "output_type": "display_data",
          "data": {
            "text/plain": [
              "  term      df  sumsq    meansq     statistic p.value     \n",
              "1 species     2 52473.28 26236.6419 594.8016  1.35171e-111\n",
              "2 Residuals 339 14953.26    44.1099       NA            NA"
            ],
            "text/latex": "A tibble: 2 × 6\n\\begin{tabular}{llllll}\n term & df & sumsq & meansq & statistic & p.value\\\\\n <chr> & <dbl> & <dbl> & <dbl> & <dbl> & <dbl>\\\\\n\\hline\n\t species   &   2 & 52473.28 & 26236.6419 & 594.8016 & 1.35171e-111\\\\\n\t Residuals & 339 & 14953.26 &    44.1099 &       NA &           NA\\\\\n\\end{tabular}\n",
            "text/markdown": "\nA tibble: 2 × 6\n\n| term &lt;chr&gt; | df &lt;dbl&gt; | sumsq &lt;dbl&gt; | meansq &lt;dbl&gt; | statistic &lt;dbl&gt; | p.value &lt;dbl&gt; |\n|---|---|---|---|---|---|\n| species   |   2 | 52473.28 | 26236.6419 | 594.8016 | 1.35171e-111 |\n| Residuals | 339 | 14953.26 |    44.1099 |       NA |           NA |\n\n",
            "text/html": [
              "<table class=\"dataframe\">\n",
              "<caption>A tibble: 2 × 6</caption>\n",
              "<thead>\n",
              "\t<tr><th scope=col>term</th><th scope=col>df</th><th scope=col>sumsq</th><th scope=col>meansq</th><th scope=col>statistic</th><th scope=col>p.value</th></tr>\n",
              "\t<tr><th scope=col>&lt;chr&gt;</th><th scope=col>&lt;dbl&gt;</th><th scope=col>&lt;dbl&gt;</th><th scope=col>&lt;dbl&gt;</th><th scope=col>&lt;dbl&gt;</th><th scope=col>&lt;dbl&gt;</th></tr>\n",
              "</thead>\n",
              "<tbody>\n",
              "\t<tr><td>species  </td><td>  2</td><td>52473.28</td><td>26236.6419</td><td>594.8016</td><td>1.35171e-111</td></tr>\n",
              "\t<tr><td>Residuals</td><td>339</td><td>14953.26</td><td>   44.1099</td><td>      NA</td><td>          NA</td></tr>\n",
              "</tbody>\n",
              "</table>\n"
            ]
          },
          "metadata": {}
        }
      ]
    },
    {
      "cell_type": "code",
      "source": [
        "aov(flipper_length_mm ~ species,\n",
        "  data = dat\n",
        ") %>% glance() "
      ],
      "metadata": {
        "execution": {
          "iopub.status.busy": "2022-02-11T19:45:00.223565Z",
          "iopub.execute_input": "2022-02-11T19:45:00.225088Z",
          "iopub.status.idle": "2022-02-11T19:45:00.259273Z"
        },
        "trusted": true,
        "colab": {
          "base_uri": "https://localhost:8080/",
          "height": 129
        },
        "id": "beVAFgayqD1l",
        "outputId": "5fb37ad1-29c5-4048-d4a6-7ffcd57a74a1"
      },
      "execution_count": 7,
      "outputs": [
        {
          "output_type": "display_data",
          "data": {
            "text/plain": [
              "  logLik    AIC      BIC      deviance nobs r.squared\n",
              "1 -1131.293 2270.587 2285.926 14953.26 342  0.7782289"
            ],
            "text/latex": "A tibble: 1 × 6\n\\begin{tabular}{llllll}\n logLik & AIC & BIC & deviance & nobs & r.squared\\\\\n <dbl> & <dbl> & <dbl> & <dbl> & <int> & <dbl>\\\\\n\\hline\n\t -1131.293 & 2270.587 & 2285.926 & 14953.26 & 342 & 0.7782289\\\\\n\\end{tabular}\n",
            "text/markdown": "\nA tibble: 1 × 6\n\n| logLik &lt;dbl&gt; | AIC &lt;dbl&gt; | BIC &lt;dbl&gt; | deviance &lt;dbl&gt; | nobs &lt;int&gt; | r.squared &lt;dbl&gt; |\n|---|---|---|---|---|---|\n| -1131.293 | 2270.587 | 2285.926 | 14953.26 | 342 | 0.7782289 |\n\n",
            "text/html": [
              "<table class=\"dataframe\">\n",
              "<caption>A tibble: 1 × 6</caption>\n",
              "<thead>\n",
              "\t<tr><th scope=col>logLik</th><th scope=col>AIC</th><th scope=col>BIC</th><th scope=col>deviance</th><th scope=col>nobs</th><th scope=col>r.squared</th></tr>\n",
              "\t<tr><th scope=col>&lt;dbl&gt;</th><th scope=col>&lt;dbl&gt;</th><th scope=col>&lt;dbl&gt;</th><th scope=col>&lt;dbl&gt;</th><th scope=col>&lt;int&gt;</th><th scope=col>&lt;dbl&gt;</th></tr>\n",
              "</thead>\n",
              "<tbody>\n",
              "\t<tr><td>-1131.293</td><td>2270.587</td><td>2285.926</td><td>14953.26</td><td>342</td><td>0.7782289</td></tr>\n",
              "</tbody>\n",
              "</table>\n"
            ]
          },
          "metadata": {}
        }
      ]
    },
    {
      "cell_type": "code",
      "source": [
        "model <- aov(flipper_length_mm ~ species,\n",
        "  data = dat\n",
        ")"
      ],
      "metadata": {
        "execution": {
          "iopub.status.busy": "2022-02-11T19:45:00.262368Z",
          "iopub.execute_input": "2022-02-11T19:45:00.263991Z",
          "iopub.status.idle": "2022-02-11T19:45:00.279104Z"
        },
        "trusted": true,
        "id": "ERzQQ3BeqD1l"
      },
      "execution_count": 8,
      "outputs": []
    },
    {
      "cell_type": "code",
      "source": [
        "aov(flipper_length_mm ~ species + sex + species:sex,  data = dat) %>% tidy() "
      ],
      "metadata": {
        "execution": {
          "iopub.status.busy": "2022-02-11T19:57:24.059247Z",
          "iopub.execute_input": "2022-02-11T19:57:24.061054Z",
          "iopub.status.idle": "2022-02-11T19:57:24.096520Z"
        },
        "trusted": true,
        "colab": {
          "base_uri": "https://localhost:8080/",
          "height": 223
        },
        "id": "Ks_Kjh8bqD1m",
        "outputId": "99c0b3d3-766b-47bd-8e46-8379da06a0e1"
      },
      "execution_count": 9,
      "outputs": [
        {
          "output_type": "display_data",
          "data": {
            "text/plain": [
              "  term        df  sumsq      meansq      statistic  p.value      \n",
              "1 species       2 50525.8836 25262.94181 789.911803 6.277512e-126\n",
              "2 sex           1  3905.6038  3905.60377 122.118894  2.461150e-24\n",
              "3 species:sex   2   329.0425   164.52124   5.144186  6.314424e-03\n",
              "4 Residuals   327 10458.1068    31.98198         NA            NA"
            ],
            "text/latex": "A tibble: 4 × 6\n\\begin{tabular}{llllll}\n term & df & sumsq & meansq & statistic & p.value\\\\\n <chr> & <dbl> & <dbl> & <dbl> & <dbl> & <dbl>\\\\\n\\hline\n\t species     &   2 & 50525.8836 & 25262.94181 & 789.911803 & 6.277512e-126\\\\\n\t sex         &   1 &  3905.6038 &  3905.60377 & 122.118894 &  2.461150e-24\\\\\n\t species:sex &   2 &   329.0425 &   164.52124 &   5.144186 &  6.314424e-03\\\\\n\t Residuals   & 327 & 10458.1068 &    31.98198 &         NA &            NA\\\\\n\\end{tabular}\n",
            "text/markdown": "\nA tibble: 4 × 6\n\n| term &lt;chr&gt; | df &lt;dbl&gt; | sumsq &lt;dbl&gt; | meansq &lt;dbl&gt; | statistic &lt;dbl&gt; | p.value &lt;dbl&gt; |\n|---|---|---|---|---|---|\n| species     |   2 | 50525.8836 | 25262.94181 | 789.911803 | 6.277512e-126 |\n| sex         |   1 |  3905.6038 |  3905.60377 | 122.118894 |  2.461150e-24 |\n| species:sex |   2 |   329.0425 |   164.52124 |   5.144186 |  6.314424e-03 |\n| Residuals   | 327 | 10458.1068 |    31.98198 |         NA |            NA |\n\n",
            "text/html": [
              "<table class=\"dataframe\">\n",
              "<caption>A tibble: 4 × 6</caption>\n",
              "<thead>\n",
              "\t<tr><th scope=col>term</th><th scope=col>df</th><th scope=col>sumsq</th><th scope=col>meansq</th><th scope=col>statistic</th><th scope=col>p.value</th></tr>\n",
              "\t<tr><th scope=col>&lt;chr&gt;</th><th scope=col>&lt;dbl&gt;</th><th scope=col>&lt;dbl&gt;</th><th scope=col>&lt;dbl&gt;</th><th scope=col>&lt;dbl&gt;</th><th scope=col>&lt;dbl&gt;</th></tr>\n",
              "</thead>\n",
              "<tbody>\n",
              "\t<tr><td>species    </td><td>  2</td><td>50525.8836</td><td>25262.94181</td><td>789.911803</td><td>6.277512e-126</td></tr>\n",
              "\t<tr><td>sex        </td><td>  1</td><td> 3905.6038</td><td> 3905.60377</td><td>122.118894</td><td> 2.461150e-24</td></tr>\n",
              "\t<tr><td>species:sex</td><td>  2</td><td>  329.0425</td><td>  164.52124</td><td>  5.144186</td><td> 6.314424e-03</td></tr>\n",
              "\t<tr><td>Residuals  </td><td>327</td><td>10458.1068</td><td>   31.98198</td><td>        NA</td><td>           NA</td></tr>\n",
              "</tbody>\n",
              "</table>\n"
            ]
          },
          "metadata": {}
        }
      ]
    },
    {
      "cell_type": "code",
      "source": [
        "qplot(penguins$flipper_length_mm, penguins$species, geom = \"boxplot\")  + coord_flip()"
      ],
      "metadata": {
        "execution": {
          "iopub.status.busy": "2022-02-11T20:01:15.786064Z",
          "iopub.execute_input": "2022-02-11T20:01:15.788256Z",
          "iopub.status.idle": "2022-02-11T20:01:16.084868Z"
        },
        "trusted": true,
        "colab": {
          "base_uri": "https://localhost:8080/",
          "height": 472
        },
        "id": "Cam4EGeHqD1n",
        "outputId": "99b1f455-1672-4f2c-8df6-cae5ca2d340f"
      },
      "execution_count": 10,
      "outputs": [
        {
          "output_type": "stream",
          "name": "stderr",
          "text": [
            "Warning message:\n",
            "“Removed 2 rows containing non-finite values (stat_boxplot).”\n"
          ]
        },
        {
          "output_type": "display_data",
          "data": {
            "image/png": "[encoded data removed]",
            "text/plain": [
              "plot without title"
            ]
          },
          "metadata": {
            "image/png": {
              "width": 420,
              "height": 420
            }
          }
        }
      ]
    },
    {
      "cell_type": "code",
      "source": [
        "# leveneTest(model) %>%  tidy()"
      ],
      "metadata": {
        "execution": {
          "iopub.status.busy": "2022-02-11T19:47:38.100022Z",
          "iopub.execute_input": "2022-02-11T19:47:38.102141Z",
          "iopub.status.idle": "2022-02-11T19:47:38.135216Z"
        },
        "trusted": true,
        "id": "4-o0wek3qD1r"
      },
      "execution_count": 11,
      "outputs": []
    },
    {
      "cell_type": "code",
      "source": [
        "TukeyHSD(model) %>% tidy()"
      ],
      "metadata": {
        "execution": {
          "iopub.status.busy": "2022-02-11T19:47:58.886040Z",
          "iopub.execute_input": "2022-02-11T19:47:58.887726Z",
          "iopub.status.idle": "2022-02-11T19:47:58.915757Z"
        },
        "trusted": true,
        "colab": {
          "base_uri": "https://localhost:8080/",
          "height": 192
        },
        "id": "9Vo_8biHqD1u",
        "outputId": "3df36b07-0f5e-44b3-c8e8-b0136278ba2f"
      },
      "execution_count": 12,
      "outputs": [
        {
          "output_type": "display_data",
          "data": {
            "text/plain": [
              "  term    contrast         null.value estimate  conf.low  conf.high\n",
              "1 species Chinstrap-Adelie 0           5.869887  3.586583  8.153191\n",
              "2 species Gentoo-Adelie    0          27.233349 25.334376 29.132323\n",
              "3 species Gentoo-Chinstrap 0          21.363462 19.000841 23.726084\n",
              "  adj.p.value \n",
              "1 1.137329e-08\n",
              "2 0.000000e+00\n",
              "3 0.000000e+00"
            ],
            "text/latex": "A tibble: 3 × 7\n\\begin{tabular}{lllllll}\n term & contrast & null.value & estimate & conf.low & conf.high & adj.p.value\\\\\n <chr> & <chr> & <dbl> & <dbl> & <dbl> & <dbl> & <dbl>\\\\\n\\hline\n\t species & Chinstrap-Adelie & 0 &  5.869887 &  3.586583 &  8.153191 & 1.137329e-08\\\\\n\t species & Gentoo-Adelie    & 0 & 27.233349 & 25.334376 & 29.132323 & 0.000000e+00\\\\\n\t species & Gentoo-Chinstrap & 0 & 21.363462 & 19.000841 & 23.726084 & 0.000000e+00\\\\\n\\end{tabular}\n",
            "text/markdown": "\nA tibble: 3 × 7\n\n| term &lt;chr&gt; | contrast &lt;chr&gt; | null.value &lt;dbl&gt; | estimate &lt;dbl&gt; | conf.low &lt;dbl&gt; | conf.high &lt;dbl&gt; | adj.p.value &lt;dbl&gt; |\n|---|---|---|---|---|---|---|\n| species | Chinstrap-Adelie | 0 |  5.869887 |  3.586583 |  8.153191 | 1.137329e-08 |\n| species | Gentoo-Adelie    | 0 | 27.233349 | 25.334376 | 29.132323 | 0.000000e+00 |\n| species | Gentoo-Chinstrap | 0 | 21.363462 | 19.000841 | 23.726084 | 0.000000e+00 |\n\n",
            "text/html": [
              "<table class=\"dataframe\">\n",
              "<caption>A tibble: 3 × 7</caption>\n",
              "<thead>\n",
              "\t<tr><th scope=col>term</th><th scope=col>contrast</th><th scope=col>null.value</th><th scope=col>estimate</th><th scope=col>conf.low</th><th scope=col>conf.high</th><th scope=col>adj.p.value</th></tr>\n",
              "\t<tr><th scope=col>&lt;chr&gt;</th><th scope=col>&lt;chr&gt;</th><th scope=col>&lt;dbl&gt;</th><th scope=col>&lt;dbl&gt;</th><th scope=col>&lt;dbl&gt;</th><th scope=col>&lt;dbl&gt;</th><th scope=col>&lt;dbl&gt;</th></tr>\n",
              "</thead>\n",
              "<tbody>\n",
              "\t<tr><td>species</td><td>Chinstrap-Adelie</td><td>0</td><td> 5.869887</td><td> 3.586583</td><td> 8.153191</td><td>1.137329e-08</td></tr>\n",
              "\t<tr><td>species</td><td>Gentoo-Adelie   </td><td>0</td><td>27.233349</td><td>25.334376</td><td>29.132323</td><td>0.000000e+00</td></tr>\n",
              "\t<tr><td>species</td><td>Gentoo-Chinstrap</td><td>0</td><td>21.363462</td><td>19.000841</td><td>23.726084</td><td>0.000000e+00</td></tr>\n",
              "</tbody>\n",
              "</table>\n"
            ]
          },
          "metadata": {}
        }
      ]
    },
    {
      "cell_type": "code",
      "source": [
        "# t.test(data = mtcars, mpg ~ cyl)"
      ],
      "metadata": {
        "execution": {
          "iopub.status.busy": "2022-02-11T20:00:39.318902Z",
          "iopub.execute_input": "2022-02-11T20:00:39.320512Z",
          "iopub.status.idle": "2022-02-11T20:00:39.338431Z"
        },
        "trusted": true,
        "id": "Q36AOauvqD1u"
      },
      "execution_count": 13,
      "outputs": []
    },
    {
      "cell_type": "code",
      "source": [
        "mtcars %>% filter(cyl == \"4\" | cyl == \"8\") %>% t.test(data = ., mpg ~ cyl)"
      ],
      "metadata": {
        "execution": {
          "iopub.status.busy": "2022-02-11T19:51:12.264772Z",
          "iopub.execute_input": "2022-02-11T19:51:12.266552Z",
          "iopub.status.idle": "2022-02-11T19:51:12.299501Z"
        },
        "trusted": true,
        "colab": {
          "base_uri": "https://localhost:8080/",
          "height": 208
        },
        "id": "cJF6Bey1qD1v",
        "outputId": "9028fea0-db31-4ff6-dfbc-f7cf5f060de9"
      },
      "execution_count": 14,
      "outputs": [
        {
          "output_type": "display_data",
          "data": {
            "text/plain": [
              "\n",
              "\tWelch Two Sample t-test\n",
              "\n",
              "data:  mpg by cyl\n",
              "t = 7.5967, df = 14.967, p-value = 1.641e-06\n",
              "alternative hypothesis: true difference in means between group 4 and group 8 is not equal to 0\n",
              "95 percent confidence interval:\n",
              "  8.318518 14.808755\n",
              "sample estimates:\n",
              "mean in group 4 mean in group 8 \n",
              "       26.66364        15.10000 \n"
            ]
          },
          "metadata": {}
        }
      ]
    },
    {
      "cell_type": "code",
      "source": [
        "mtcars %>% filter(cyl %in% c(\"4\", \"8\")) %>% t.test(data = ., mpg ~ cyl, var.equal = TRUE) %>% tidy()"
      ],
      "metadata": {
        "execution": {
          "iopub.status.busy": "2022-02-11T19:54:46.241204Z",
          "iopub.execute_input": "2022-02-11T19:54:46.242908Z",
          "iopub.status.idle": "2022-02-11T19:54:46.269718Z"
        },
        "trusted": true,
        "colab": {
          "base_uri": "https://localhost:8080/",
          "height": 129
        },
        "id": "ZnddYzgTqD1v",
        "outputId": "358aea49-921e-4af6-80c0-ef7a6d2066e9"
      },
      "execution_count": 15,
      "outputs": [
        {
          "output_type": "display_data",
          "data": {
            "text/plain": [
              "  estimate estimate1 estimate2 statistic p.value      parameter conf.low\n",
              "1 11.56364 26.66364  15.1      8.102359  3.446219e-08 23        8.611261\n",
              "  conf.high method            alternative\n",
              "1 14.51601  Two Sample t-test two.sided  "
            ],
            "text/latex": "A tibble: 1 × 10\n\\begin{tabular}{llllllllll}\n estimate & estimate1 & estimate2 & statistic & p.value & parameter & conf.low & conf.high & method & alternative\\\\\n <dbl> & <dbl> & <dbl> & <dbl> & <dbl> & <dbl> & <dbl> & <dbl> & <chr> & <chr>\\\\\n\\hline\n\t 11.56364 & 26.66364 & 15.1 & 8.102359 & 3.446219e-08 & 23 & 8.611261 & 14.51601 & Two Sample t-test & two.sided\\\\\n\\end{tabular}\n",
            "text/markdown": "\nA tibble: 1 × 10\n\n| estimate &lt;dbl&gt; | estimate1 &lt;dbl&gt; | estimate2 &lt;dbl&gt; | statistic &lt;dbl&gt; | p.value &lt;dbl&gt; | parameter &lt;dbl&gt; | conf.low &lt;dbl&gt; | conf.high &lt;dbl&gt; | method &lt;chr&gt; | alternative &lt;chr&gt; |\n|---|---|---|---|---|---|---|---|---|---|\n| 11.56364 | 26.66364 | 15.1 | 8.102359 | 3.446219e-08 | 23 | 8.611261 | 14.51601 | Two Sample t-test | two.sided |\n\n",
            "text/html": [
              "<table class=\"dataframe\">\n",
              "<caption>A tibble: 1 × 10</caption>\n",
              "<thead>\n",
              "\t<tr><th scope=col>estimate</th><th scope=col>estimate1</th><th scope=col>estimate2</th><th scope=col>statistic</th><th scope=col>p.value</th><th scope=col>parameter</th><th scope=col>conf.low</th><th scope=col>conf.high</th><th scope=col>method</th><th scope=col>alternative</th></tr>\n",
              "\t<tr><th scope=col>&lt;dbl&gt;</th><th scope=col>&lt;dbl&gt;</th><th scope=col>&lt;dbl&gt;</th><th scope=col>&lt;dbl&gt;</th><th scope=col>&lt;dbl&gt;</th><th scope=col>&lt;dbl&gt;</th><th scope=col>&lt;dbl&gt;</th><th scope=col>&lt;dbl&gt;</th><th scope=col>&lt;chr&gt;</th><th scope=col>&lt;chr&gt;</th></tr>\n",
              "</thead>\n",
              "<tbody>\n",
              "\t<tr><td>11.56364</td><td>26.66364</td><td>15.1</td><td>8.102359</td><td>3.446219e-08</td><td>23</td><td>8.611261</td><td>14.51601</td><td>Two Sample t-test</td><td>two.sided</td></tr>\n",
              "</tbody>\n",
              "</table>\n"
            ]
          },
          "metadata": {}
        }
      ]
    }
  ]
}