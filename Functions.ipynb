{
  "nbformat": 4,
  "nbformat_minor": 0,
  "metadata": {
    "colab": {
      "name": "Untitled5.ipynb",
      "provenance": [],
      "authorship_tag": "ABX9TyOfaWxgDcU4b+AqxhCJy5ZV",
      "include_colab_link": true
    },
    "kernelspec": {
      "name": "ir",
      "display_name": "R"
    },
    "language_info": {
      "name": "R"
    }
  },
  "cells": [
    {
      "cell_type": "markdown",
      "metadata": {
        "id": "view-in-github",
        "colab_type": "text"
      },
      "source": [
        "<a href=\"https://colab.research.google.com/github/WriterTyper/descriptive-stats/blob/main/Functions.ipynb\" target=\"_parent\"><img src=\"https://colab.research.google.com/assets/colab-badge.svg\" alt=\"Open In Colab\"/></a>"
      ]
    },
    {
      "cell_type": "markdown",
      "source": [
        "Functions"
      ],
      "metadata": {
        "id": "Pj4x7c-BwJ68"
      }
    },
    {
      "cell_type": "markdown",
      "source": [
        "Dealing with missing arguments\n"
      ],
      "metadata": {
        "id": "bLlQeg5fwYxi"
      }
    },
    {
      "cell_type": "code",
      "source": [
        "add_two_numbers <- function(a, b) {\n",
        "  if(missing(a)) {\n",
        "    a <- 0\n",
        "  }\n",
        "  if(missing(b)) {\n",
        "    b <- 0\n",
        "  }\n",
        "  a + b\n",
        "}"
      ],
      "metadata": {
        "id": "X1RWRgtIwbIZ"
      },
      "execution_count": 14,
      "outputs": []
    },
    {
      "cell_type": "code",
      "source": [
        "add_two_numbers(1)"
      ],
      "metadata": {
        "colab": {
          "base_uri": "https://localhost:8080/",
          "height": 35
        },
        "id": "-8kEwFMFwvPj",
        "outputId": "c3d5d19d-14e0-4eef-e275-dd83c5f9937c"
      },
      "execution_count": 18,
      "outputs": [
        {
          "output_type": "display_data",
          "data": {
            "text/plain": [
              "[1] 1"
            ],
            "text/latex": "1",
            "text/markdown": "1",
            "text/html": [
              "1"
            ]
          },
          "metadata": {}
        }
      ]
    },
    {
      "cell_type": "code",
      "source": [
        "add_two_numbers(1, 9)"
      ],
      "metadata": {
        "colab": {
          "base_uri": "https://localhost:8080/",
          "height": 35
        },
        "id": "7rbYTViHw8PM",
        "outputId": "97c7a3d4-2738-42f8-ef8c-73353de2d0c9"
      },
      "execution_count": 19,
      "outputs": [
        {
          "output_type": "display_data",
          "data": {
            "text/plain": [
              "[1] 10"
            ],
            "text/latex": "10",
            "text/markdown": "10",
            "text/html": [
              "10"
            ]
          },
          "metadata": {}
        }
      ]
    },
    {
      "cell_type": "code",
      "source": [
        "add_three_numbers <- function(a, b, c) {\n",
        "  if(missing(a)) {\n",
        "    stop(\"Please enter a value for a\")\n",
        "  }\n",
        "  if(missing(b)) {\n",
        "    stop(\"Please enter a value for b\")\n",
        "  }\n",
        "  if(missing(c)) {\n",
        "    stop(\"Please enter a value for c\")\n",
        "  }\n",
        "  a + b + c\n",
        "}"
      ],
      "metadata": {
        "id": "AzTarvoYxQd4"
      },
      "execution_count": 21,
      "outputs": []
    },
    {
      "cell_type": "code",
      "source": [
        "add_three_numbers(2, 3, 4)"
      ],
      "metadata": {
        "colab": {
          "base_uri": "https://localhost:8080/",
          "height": 35
        },
        "id": "8aKnmblKyC7n",
        "outputId": "00671bbe-561e-4ab8-84e8-166756da8d47"
      },
      "execution_count": 22,
      "outputs": [
        {
          "output_type": "display_data",
          "data": {
            "text/plain": [
              "[1] 9"
            ],
            "text/latex": "9",
            "text/markdown": "9",
            "text/html": [
              "9"
            ]
          },
          "metadata": {}
        }
      ]
    },
    {
      "cell_type": "code",
      "source": [
        "add_three_numbers(1, 3)"
      ],
      "metadata": {
        "colab": {
          "base_uri": "https://localhost:8080/",
          "height": 149
        },
        "id": "qGecfH7wyGuh",
        "outputId": "51a3944f-0a7f-460c-9ddd-e0ada38993d3"
      },
      "execution_count": 25,
      "outputs": [
        {
          "output_type": "error",
          "ename": "ERROR",
          "evalue": "ignored",
          "traceback": [
            "Error in add_three_numbers(1, 3): Please enter a value for c\nTraceback:\n",
            "1. add_three_numbers(1, 3)",
            "2. stop(\"Please enter a value for c\")   # at line 9 of file <text>"
          ]
        }
      ]
    },
    {
      "cell_type": "code",
      "source": [
        ""
      ],
      "metadata": {
        "id": "TD4DsGsWzAql"
      },
      "execution_count": null,
      "outputs": []
    },
    {
      "cell_type": "markdown",
      "source": [
        "Data Structures"
      ],
      "metadata": {
        "id": "0IULXvj5zBAy"
      }
    },
    {
      "cell_type": "markdown",
      "source": [
        "Scalar"
      ],
      "metadata": {
        "id": "23_q9C4JzEw0"
      }
    },
    {
      "cell_type": "code",
      "source": [
        "1"
      ],
      "metadata": {
        "colab": {
          "base_uri": "https://localhost:8080/",
          "height": 35
        },
        "id": "o8R0cb2uzC1W",
        "outputId": "938f73ad-d0a6-4753-ce4d-50fb89656701"
      },
      "execution_count": 27,
      "outputs": [
        {
          "output_type": "display_data",
          "data": {
            "text/plain": [
              "[1] 1"
            ],
            "text/latex": "1",
            "text/markdown": "1",
            "text/html": [
              "1"
            ]
          },
          "metadata": {}
        }
      ]
    },
    {
      "cell_type": "markdown",
      "source": [
        "Vector"
      ],
      "metadata": {
        "id": "zZjvwDO2zJEP"
      }
    },
    {
      "cell_type": "code",
      "source": [
        "x <- c(1, 2, 3)\n",
        "str(x)"
      ],
      "metadata": {
        "colab": {
          "base_uri": "https://localhost:8080/"
        },
        "id": "-dx6dlZYzKTb",
        "outputId": "2a086181-7f81-4abd-df27-82f39d45503b"
      },
      "execution_count": 32,
      "outputs": [
        {
          "output_type": "stream",
          "name": "stdout",
          "text": [
            " num [1:3] 1 2 3\n"
          ]
        }
      ]
    },
    {
      "cell_type": "markdown",
      "source": [
        "List\n"
      ],
      "metadata": {
        "id": "3dsMO6SSzS6D"
      }
    },
    {
      "cell_type": "code",
      "source": [
        "y <- c(\"Hello\", 1)\n",
        "str(y)"
      ],
      "metadata": {
        "colab": {
          "base_uri": "https://localhost:8080/"
        },
        "id": "FlWg5P3azT_1",
        "outputId": "038c4ff0-aee6-4aff-f587-b4249f78ee83"
      },
      "execution_count": 35,
      "outputs": [
        {
          "output_type": "stream",
          "name": "stdout",
          "text": [
            " chr [1:2] \"Hello\" \"1\"\n"
          ]
        }
      ]
    },
    {
      "cell_type": "markdown",
      "source": [
        "Matrix"
      ],
      "metadata": {
        "id": "R-Tk9JRvze3j"
      }
    },
    {
      "cell_type": "code",
      "source": [
        ""
      ],
      "metadata": {
        "id": "L8Uo1iINzc1Q"
      },
      "execution_count": null,
      "outputs": []
    },
    {
      "cell_type": "markdown",
      "source": [
        "Dataframe"
      ],
      "metadata": {
        "id": "h8KDE3qlzgU_"
      }
    }
  ]
}